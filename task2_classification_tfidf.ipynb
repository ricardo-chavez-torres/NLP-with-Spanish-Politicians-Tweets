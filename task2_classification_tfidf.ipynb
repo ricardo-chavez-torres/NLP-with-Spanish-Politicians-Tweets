{
 "cells": [
  {
   "cell_type": "markdown",
   "metadata": {},
   "source": [
    "# Here we start Task 2  TFIDF"
   ]
  },
  {
   "cell_type": "code",
   "execution_count": 1,
   "metadata": {},
   "outputs": [],
   "source": [
    "import pandas as pd\n",
    "import numpy as np\n",
    "import matplotlib.pyplot as plt\n",
    "import seaborn as sns\n",
    "from IPython.display import display\n",
    "import pickle\n",
    "import openpyxl\n",
    "%matplotlib inline\n",
    "%config InlineBackend.figure_format = 'retina'\n",
    "sns.set_theme()\n",
    "plt.rcParams[\"figure.figsize\"] = (10,6)"
   ]
  },
  {
   "cell_type": "code",
   "execution_count": 2,
   "metadata": {},
   "outputs": [],
   "source": [
    "from sklearn.svm import SVC\n",
    "from sklearn.decomposition import PCA\n",
    "from sklearn.preprocessing import StandardScaler\n",
    "from sklearn.model_selection import train_test_split\n",
    "from sklearn.pipeline import Pipeline\n",
    "from sklearn.neighbors import KNeighborsClassifier\n",
    "from sklearn.ensemble import RandomForestClassifier\n",
    "from sklearn.model_selection import cross_val_score\n",
    "from sklearn.tree import DecisionTreeClassifier\n",
    "from sklearn.model_selection import GridSearchCV\n",
    "from sklearn.tree import export_text\n",
    "from sklearn.cross_decomposition import CCA\n",
    "from sklearn.preprocessing import label_binarize\n",
    "from sklearn import svm"
   ]
  },
  {
   "cell_type": "markdown",
   "metadata": {},
   "source": [
    "# Dataset loading and adjusting"
   ]
  },
  {
   "cell_type": "code",
   "execution_count": 3,
   "metadata": {},
   "outputs": [],
   "source": [
    "tm_dataframe = pd.read_excel('data/final_tm_df.xlsx')\n",
    "# del final_df['LDA_12']\n",
    "# del final_df['Author']\n"
   ]
  },
  {
   "cell_type": "code",
   "execution_count": 4,
   "metadata": {},
   "outputs": [],
   "source": [
    "from gensim.models import TfidfModel\n",
    "\n",
    "bow = pickle.load(open(\"models/corpus_bow_filtered.p\", \"rb\"))\n",
    "tfidf = TfidfModel(bow)\n"
   ]
  },
  {
   "cell_type": "code",
   "execution_count": 5,
   "metadata": {},
   "outputs": [
    {
     "data": {
      "text/html": [
       "<div>\n",
       "<style scoped>\n",
       "    .dataframe tbody tr th:only-of-type {\n",
       "        vertical-align: middle;\n",
       "    }\n",
       "\n",
       "    .dataframe tbody tr th {\n",
       "        vertical-align: top;\n",
       "    }\n",
       "\n",
       "    .dataframe thead th {\n",
       "        text-align: right;\n",
       "    }\n",
       "</style>\n",
       "<table border=\"1\" class=\"dataframe\">\n",
       "  <thead>\n",
       "    <tr style=\"text-align: right;\">\n",
       "      <th></th>\n",
       "      <th>0</th>\n",
       "      <th>1</th>\n",
       "      <th>2</th>\n",
       "      <th>3</th>\n",
       "      <th>4</th>\n",
       "      <th>5</th>\n",
       "      <th>6</th>\n",
       "      <th>7</th>\n",
       "      <th>8</th>\n",
       "      <th>9</th>\n",
       "      <th>...</th>\n",
       "      <th>8137</th>\n",
       "      <th>8138</th>\n",
       "      <th>8139</th>\n",
       "      <th>8140</th>\n",
       "      <th>8141</th>\n",
       "      <th>8142</th>\n",
       "      <th>8143</th>\n",
       "      <th>8144</th>\n",
       "      <th>8145</th>\n",
       "      <th>Mayor Parties</th>\n",
       "    </tr>\n",
       "  </thead>\n",
       "  <tbody>\n",
       "    <tr>\n",
       "      <th>0</th>\n",
       "      <td>0.334727</td>\n",
       "      <td>0.2409</td>\n",
       "      <td>0.292522</td>\n",
       "      <td>0.272898</td>\n",
       "      <td>0.170969</td>\n",
       "      <td>0.345256</td>\n",
       "      <td>0.242608</td>\n",
       "      <td>0.31915</td>\n",
       "      <td>0.308098</td>\n",
       "      <td>0.242608</td>\n",
       "      <td>...</td>\n",
       "      <td>0.0</td>\n",
       "      <td>0.0</td>\n",
       "      <td>0.0</td>\n",
       "      <td>0.0</td>\n",
       "      <td>0.0</td>\n",
       "      <td>0.0</td>\n",
       "      <td>0.0</td>\n",
       "      <td>0.0</td>\n",
       "      <td>0.0</td>\n",
       "      <td>PSOE</td>\n",
       "    </tr>\n",
       "    <tr>\n",
       "      <th>1</th>\n",
       "      <td>0.000000</td>\n",
       "      <td>0.0000</td>\n",
       "      <td>0.000000</td>\n",
       "      <td>0.000000</td>\n",
       "      <td>0.000000</td>\n",
       "      <td>0.000000</td>\n",
       "      <td>0.000000</td>\n",
       "      <td>0.00000</td>\n",
       "      <td>0.000000</td>\n",
       "      <td>0.000000</td>\n",
       "      <td>...</td>\n",
       "      <td>0.0</td>\n",
       "      <td>0.0</td>\n",
       "      <td>0.0</td>\n",
       "      <td>0.0</td>\n",
       "      <td>0.0</td>\n",
       "      <td>0.0</td>\n",
       "      <td>0.0</td>\n",
       "      <td>0.0</td>\n",
       "      <td>0.0</td>\n",
       "      <td>PSOE</td>\n",
       "    </tr>\n",
       "    <tr>\n",
       "      <th>2</th>\n",
       "      <td>0.000000</td>\n",
       "      <td>0.0000</td>\n",
       "      <td>0.000000</td>\n",
       "      <td>0.000000</td>\n",
       "      <td>0.000000</td>\n",
       "      <td>0.000000</td>\n",
       "      <td>0.000000</td>\n",
       "      <td>0.00000</td>\n",
       "      <td>0.000000</td>\n",
       "      <td>0.000000</td>\n",
       "      <td>...</td>\n",
       "      <td>0.0</td>\n",
       "      <td>0.0</td>\n",
       "      <td>0.0</td>\n",
       "      <td>0.0</td>\n",
       "      <td>0.0</td>\n",
       "      <td>0.0</td>\n",
       "      <td>0.0</td>\n",
       "      <td>0.0</td>\n",
       "      <td>0.0</td>\n",
       "      <td>PSOE</td>\n",
       "    </tr>\n",
       "    <tr>\n",
       "      <th>3</th>\n",
       "      <td>0.000000</td>\n",
       "      <td>0.0000</td>\n",
       "      <td>0.000000</td>\n",
       "      <td>0.000000</td>\n",
       "      <td>0.000000</td>\n",
       "      <td>0.000000</td>\n",
       "      <td>0.000000</td>\n",
       "      <td>0.00000</td>\n",
       "      <td>0.000000</td>\n",
       "      <td>0.000000</td>\n",
       "      <td>...</td>\n",
       "      <td>0.0</td>\n",
       "      <td>0.0</td>\n",
       "      <td>0.0</td>\n",
       "      <td>0.0</td>\n",
       "      <td>0.0</td>\n",
       "      <td>0.0</td>\n",
       "      <td>0.0</td>\n",
       "      <td>0.0</td>\n",
       "      <td>0.0</td>\n",
       "      <td>PSOE</td>\n",
       "    </tr>\n",
       "    <tr>\n",
       "      <th>4</th>\n",
       "      <td>0.000000</td>\n",
       "      <td>0.0000</td>\n",
       "      <td>0.000000</td>\n",
       "      <td>0.000000</td>\n",
       "      <td>0.000000</td>\n",
       "      <td>0.000000</td>\n",
       "      <td>0.000000</td>\n",
       "      <td>0.00000</td>\n",
       "      <td>0.000000</td>\n",
       "      <td>0.000000</td>\n",
       "      <td>...</td>\n",
       "      <td>0.0</td>\n",
       "      <td>0.0</td>\n",
       "      <td>0.0</td>\n",
       "      <td>0.0</td>\n",
       "      <td>0.0</td>\n",
       "      <td>0.0</td>\n",
       "      <td>0.0</td>\n",
       "      <td>0.0</td>\n",
       "      <td>0.0</td>\n",
       "      <td>PSOE</td>\n",
       "    </tr>\n",
       "    <tr>\n",
       "      <th>...</th>\n",
       "      <td>...</td>\n",
       "      <td>...</td>\n",
       "      <td>...</td>\n",
       "      <td>...</td>\n",
       "      <td>...</td>\n",
       "      <td>...</td>\n",
       "      <td>...</td>\n",
       "      <td>...</td>\n",
       "      <td>...</td>\n",
       "      <td>...</td>\n",
       "      <td>...</td>\n",
       "      <td>...</td>\n",
       "      <td>...</td>\n",
       "      <td>...</td>\n",
       "      <td>...</td>\n",
       "      <td>...</td>\n",
       "      <td>...</td>\n",
       "      <td>...</td>\n",
       "      <td>...</td>\n",
       "      <td>...</td>\n",
       "      <td>...</td>\n",
       "    </tr>\n",
       "    <tr>\n",
       "      <th>12159</th>\n",
       "      <td>0.000000</td>\n",
       "      <td>0.0000</td>\n",
       "      <td>0.000000</td>\n",
       "      <td>0.000000</td>\n",
       "      <td>0.000000</td>\n",
       "      <td>0.000000</td>\n",
       "      <td>0.000000</td>\n",
       "      <td>0.00000</td>\n",
       "      <td>0.000000</td>\n",
       "      <td>0.000000</td>\n",
       "      <td>...</td>\n",
       "      <td>0.0</td>\n",
       "      <td>0.0</td>\n",
       "      <td>0.0</td>\n",
       "      <td>0.0</td>\n",
       "      <td>0.0</td>\n",
       "      <td>0.0</td>\n",
       "      <td>0.0</td>\n",
       "      <td>0.0</td>\n",
       "      <td>0.0</td>\n",
       "      <td>PP</td>\n",
       "    </tr>\n",
       "    <tr>\n",
       "      <th>12160</th>\n",
       "      <td>0.000000</td>\n",
       "      <td>0.0000</td>\n",
       "      <td>0.000000</td>\n",
       "      <td>0.000000</td>\n",
       "      <td>0.000000</td>\n",
       "      <td>0.000000</td>\n",
       "      <td>0.000000</td>\n",
       "      <td>0.00000</td>\n",
       "      <td>0.000000</td>\n",
       "      <td>0.000000</td>\n",
       "      <td>...</td>\n",
       "      <td>0.0</td>\n",
       "      <td>0.0</td>\n",
       "      <td>0.0</td>\n",
       "      <td>0.0</td>\n",
       "      <td>0.0</td>\n",
       "      <td>0.0</td>\n",
       "      <td>0.0</td>\n",
       "      <td>0.0</td>\n",
       "      <td>0.0</td>\n",
       "      <td>PP</td>\n",
       "    </tr>\n",
       "    <tr>\n",
       "      <th>12161</th>\n",
       "      <td>0.000000</td>\n",
       "      <td>0.0000</td>\n",
       "      <td>0.000000</td>\n",
       "      <td>0.000000</td>\n",
       "      <td>0.000000</td>\n",
       "      <td>0.000000</td>\n",
       "      <td>0.000000</td>\n",
       "      <td>0.00000</td>\n",
       "      <td>0.000000</td>\n",
       "      <td>0.000000</td>\n",
       "      <td>...</td>\n",
       "      <td>0.0</td>\n",
       "      <td>0.0</td>\n",
       "      <td>0.0</td>\n",
       "      <td>0.0</td>\n",
       "      <td>0.0</td>\n",
       "      <td>0.0</td>\n",
       "      <td>0.0</td>\n",
       "      <td>0.0</td>\n",
       "      <td>0.0</td>\n",
       "      <td>PP</td>\n",
       "    </tr>\n",
       "    <tr>\n",
       "      <th>12162</th>\n",
       "      <td>0.000000</td>\n",
       "      <td>0.0000</td>\n",
       "      <td>0.000000</td>\n",
       "      <td>0.000000</td>\n",
       "      <td>0.000000</td>\n",
       "      <td>0.000000</td>\n",
       "      <td>0.000000</td>\n",
       "      <td>0.00000</td>\n",
       "      <td>0.000000</td>\n",
       "      <td>0.000000</td>\n",
       "      <td>...</td>\n",
       "      <td>0.0</td>\n",
       "      <td>0.0</td>\n",
       "      <td>0.0</td>\n",
       "      <td>0.0</td>\n",
       "      <td>0.0</td>\n",
       "      <td>0.0</td>\n",
       "      <td>0.0</td>\n",
       "      <td>0.0</td>\n",
       "      <td>0.0</td>\n",
       "      <td>PP</td>\n",
       "    </tr>\n",
       "    <tr>\n",
       "      <th>12163</th>\n",
       "      <td>0.000000</td>\n",
       "      <td>0.0000</td>\n",
       "      <td>0.000000</td>\n",
       "      <td>0.000000</td>\n",
       "      <td>0.000000</td>\n",
       "      <td>0.000000</td>\n",
       "      <td>0.000000</td>\n",
       "      <td>0.00000</td>\n",
       "      <td>0.000000</td>\n",
       "      <td>0.000000</td>\n",
       "      <td>...</td>\n",
       "      <td>0.0</td>\n",
       "      <td>0.0</td>\n",
       "      <td>0.0</td>\n",
       "      <td>0.0</td>\n",
       "      <td>0.0</td>\n",
       "      <td>0.0</td>\n",
       "      <td>0.0</td>\n",
       "      <td>0.0</td>\n",
       "      <td>0.0</td>\n",
       "      <td>PP</td>\n",
       "    </tr>\n",
       "  </tbody>\n",
       "</table>\n",
       "<p>12164 rows × 8147 columns</p>\n",
       "</div>"
      ],
      "text/plain": [
       "              0       1         2         3         4         5         6  \\\n",
       "0      0.334727  0.2409  0.292522  0.272898  0.170969  0.345256  0.242608   \n",
       "1      0.000000  0.0000  0.000000  0.000000  0.000000  0.000000  0.000000   \n",
       "2      0.000000  0.0000  0.000000  0.000000  0.000000  0.000000  0.000000   \n",
       "3      0.000000  0.0000  0.000000  0.000000  0.000000  0.000000  0.000000   \n",
       "4      0.000000  0.0000  0.000000  0.000000  0.000000  0.000000  0.000000   \n",
       "...         ...     ...       ...       ...       ...       ...       ...   \n",
       "12159  0.000000  0.0000  0.000000  0.000000  0.000000  0.000000  0.000000   \n",
       "12160  0.000000  0.0000  0.000000  0.000000  0.000000  0.000000  0.000000   \n",
       "12161  0.000000  0.0000  0.000000  0.000000  0.000000  0.000000  0.000000   \n",
       "12162  0.000000  0.0000  0.000000  0.000000  0.000000  0.000000  0.000000   \n",
       "12163  0.000000  0.0000  0.000000  0.000000  0.000000  0.000000  0.000000   \n",
       "\n",
       "             7         8         9  ...  8137  8138  8139  8140  8141  8142  \\\n",
       "0      0.31915  0.308098  0.242608  ...   0.0   0.0   0.0   0.0   0.0   0.0   \n",
       "1      0.00000  0.000000  0.000000  ...   0.0   0.0   0.0   0.0   0.0   0.0   \n",
       "2      0.00000  0.000000  0.000000  ...   0.0   0.0   0.0   0.0   0.0   0.0   \n",
       "3      0.00000  0.000000  0.000000  ...   0.0   0.0   0.0   0.0   0.0   0.0   \n",
       "4      0.00000  0.000000  0.000000  ...   0.0   0.0   0.0   0.0   0.0   0.0   \n",
       "...        ...       ...       ...  ...   ...   ...   ...   ...   ...   ...   \n",
       "12159  0.00000  0.000000  0.000000  ...   0.0   0.0   0.0   0.0   0.0   0.0   \n",
       "12160  0.00000  0.000000  0.000000  ...   0.0   0.0   0.0   0.0   0.0   0.0   \n",
       "12161  0.00000  0.000000  0.000000  ...   0.0   0.0   0.0   0.0   0.0   0.0   \n",
       "12162  0.00000  0.000000  0.000000  ...   0.0   0.0   0.0   0.0   0.0   0.0   \n",
       "12163  0.00000  0.000000  0.000000  ...   0.0   0.0   0.0   0.0   0.0   0.0   \n",
       "\n",
       "       8143  8144  8145  Mayor Parties  \n",
       "0       0.0   0.0   0.0           PSOE  \n",
       "1       0.0   0.0   0.0           PSOE  \n",
       "2       0.0   0.0   0.0           PSOE  \n",
       "3       0.0   0.0   0.0           PSOE  \n",
       "4       0.0   0.0   0.0           PSOE  \n",
       "...     ...   ...   ...            ...  \n",
       "12159   0.0   0.0   0.0             PP  \n",
       "12160   0.0   0.0   0.0             PP  \n",
       "12161   0.0   0.0   0.0             PP  \n",
       "12162   0.0   0.0   0.0             PP  \n",
       "12163   0.0   0.0   0.0             PP  \n",
       "\n",
       "[12164 rows x 8147 columns]"
      ]
     },
     "execution_count": 5,
     "metadata": {},
     "output_type": "execute_result"
    }
   ],
   "source": [
    "lista = tfidf[bow] \n",
    "\n",
    "dict_2_list = []\n",
    "for i in range(0,len(lista)):\n",
    "    item_dict = {item[0]: item[1] for item in lista[i]}\n",
    "    dict_2_list.append(item_dict)\n",
    "\n",
    "    \n",
    "data = pd.DataFrame(dict_2_list) #We create the new dataframe with the new dictionary\n",
    "data.fillna(0,inplace=True) #We fill the nans with 0 as the vectors were sparse\n",
    "\n",
    "data[\"Mayor Parties\"] = tm_dataframe[\"Mayor Parties\"]\n",
    "data"
   ]
  },
  {
   "cell_type": "markdown",
   "metadata": {},
   "source": [
    "### Sets split"
   ]
  },
  {
   "cell_type": "code",
   "execution_count": 6,
   "metadata": {},
   "outputs": [
    {
     "name": "stdout",
     "output_type": "stream",
     "text": [
      "Len train: 8515\n",
      "Len test: 1824\n",
      "Len validation: 1825\n"
     ]
    }
   ],
   "source": [
    "#we separate our data into training and test\n",
    "df_test, df_train = train_test_split(data, test_size=0.7, random_state=420)\n",
    "\n",
    "df_test, df_val = train_test_split(df_test, test_size=0.5, random_state=420)\n",
    "\n",
    "Y_train = df_train['Mayor Parties']\n",
    "X_train = df_train.iloc[:,2:-2]\n",
    "\n",
    "Y_test = df_test['Mayor Parties']\n",
    "X_test = df_test.iloc[:,2:-2]\n",
    "\n",
    "Y_val = df_val['Mayor Parties']\n",
    "X_val = df_val.iloc[:,2:-2]\n",
    "\n",
    "print(f\"Len train: {len(X_train)}\")\n",
    "print(f\"Len test: {len(X_test)}\")\n",
    "print(f\"Len validation: {len(X_val)}\")"
   ]
  },
  {
   "cell_type": "markdown",
   "metadata": {},
   "source": [
    "### Scaling the data"
   ]
  },
  {
   "cell_type": "code",
   "execution_count": 7,
   "metadata": {},
   "outputs": [],
   "source": [
    "#we will first scale our data\n",
    "scaler = StandardScaler().fit(X_train)\n",
    "X_train = scaler.transform(X_train)\n",
    "X_test = scaler.transform(X_test)"
   ]
  },
  {
   "cell_type": "markdown",
   "metadata": {},
   "source": [
    "# Data dimensionality reduction"
   ]
  },
  {
   "cell_type": "markdown",
   "metadata": {},
   "source": [
    "### Visualizing our data to identify features and clusters"
   ]
  },
  {
   "cell_type": "markdown",
   "metadata": {},
   "source": [
    "#### Principal Component Analysis visualization"
   ]
  },
  {
   "cell_type": "code",
   "execution_count": null,
   "metadata": {},
   "outputs": [],
   "source": [
    "# we check how some dimensionality reduction techniques work\n",
    "# pca = PCA(n_components=X_train.shape[1]).fit(X_train)\n",
    "# eigenvalues = pca.explained_variance_\n",
    "\n",
    "\n",
    "# data_variance = np.sum(np.var(X_train,0))\n",
    "\n",
    "# plt.figure()\n",
    "# plt.plot(100*np.cumsum(eigenvalues)/data_variance, 'o-', label='Evolution eigenvalues')\n",
    "# plt.xlabel('$K$: Number of principal components')\n",
    "# plt.ylabel('Percentage of the variance')\n",
    "# plt.show()\n"
   ]
  },
  {
   "cell_type": "code",
   "execution_count": null,
   "metadata": {
    "scrolled": false
   },
   "outputs": [],
   "source": [
    "# p_train = pca.transform(X_train)\n",
    "# sns.scatterplot(x = p_train[:,0], y = p_train[:,1] , hue = Y_train)\n",
    "# plt.show()"
   ]
  },
  {
   "cell_type": "markdown",
   "metadata": {},
   "source": [
    "#### T-Distributed Stochastic Neighbor Embedding visualization"
   ]
  },
  {
   "cell_type": "code",
   "execution_count": null,
   "metadata": {},
   "outputs": [],
   "source": [
    "# from sklearn.manifold import TSNE\n",
    "# p_train = TSNE(n_components=2).fit_transform(X_train)\n",
    "\n",
    "# sns.scatterplot(x = p_train[:,0], y = p_train[:,1] , hue = Y_train)\n",
    "# plt.show()"
   ]
  },
  {
   "cell_type": "markdown",
   "metadata": {},
   "source": [
    "### As we have seen here, PCA is not working very good, mainly because the matrix is too sparse, so we will perform LSI to get a better understanding of the most important features"
   ]
  },
  {
   "cell_type": "code",
   "execution_count": 8,
   "metadata": {},
   "outputs": [],
   "source": [
    "Dtra, Stra, Ttra = np.linalg.svd(X_train)"
   ]
  },
  {
   "cell_type": "code",
   "execution_count": 9,
   "metadata": {},
   "outputs": [
    {
     "data": {
      "image/png": "[encoded data removed]",
      "text/plain": [
       "<Figure size 720x432 with 1 Axes>"
      ]
     },
     "metadata": {
      "image/png": {
       "height": 390,
       "width": 615
      }
     },
     "output_type": "display_data"
    }
   ],
   "source": [
    "plt.figure()\n",
    "plt.title('SVD decomposition D values')\n",
    "plt.xlabel('Feature index')\n",
    "plt.ylabel('Diagonal values')\n",
    "plt.plot(Stra)\n",
    "plt.show()\n"
   ]
  },
  {
   "cell_type": "markdown",
   "metadata": {},
   "source": [
    "### As we can clearly see the first few values of the diagonal are larger, so we are going to keep the first 140 features from D, which means that we are going to keep the first 140 from the original dataset and apply KNN on it"
   ]
  },
  {
   "cell_type": "code",
   "execution_count": 10,
   "metadata": {},
   "outputs": [],
   "source": [
    "P_train = Dtra[:,:140]\n",
    "\n",
    "Dtst, Stst, Ttst = np.linalg.svd(X_test)\n",
    "P_test = Dtst[:,:140]\n",
    "\n",
    "Dval, Sval, Tval = np.linalg.svd(X_test)\n",
    "P_val = Dval[:,:140]"
   ]
  },
  {
   "cell_type": "code",
   "execution_count": 12,
   "metadata": {},
   "outputs": [
    {
     "data": {
      "text/plain": [
       "0.24067982456140352"
      ]
     },
     "execution_count": 12,
     "metadata": {},
     "output_type": "execute_result"
    }
   ],
   "source": [
    "from sklearn.neighbors import KNeighborsClassifier\n",
    "# Create KNN classifier\n",
    "knn = KNeighborsClassifier(n_neighbors = 15)\n",
    "# Fit the classifier to the data\n",
    "knn.fit(P_train, Y_train)\n",
    "\n",
    "#check accuracy of our model on the test data\n",
    "knn.score(P_test, Y_test)"
   ]
  },
  {
   "cell_type": "code",
   "execution_count": 13,
   "metadata": {},
   "outputs": [],
   "source": [
    "from sklearn.model_selection import cross_val_score\n",
    "\n",
    "#create a new KNN model\n",
    "knn_cv = KNeighborsClassifier(n_neighbors=60)\n",
    "#train model with cv of 5 \n",
    "cv_scores = cross_val_score(knn_cv, P_train, Y_train, cv=100)\n"
   ]
  },
  {
   "cell_type": "code",
   "execution_count": 15,
   "metadata": {},
   "outputs": [
    {
     "name": "stdout",
     "output_type": "stream",
     "text": [
      "[0.29411764705882354, 0.32558139534883723, 0.32941176470588235, 0.32941176470588235, 0.3411764705882353, 0.3411764705882353, 0.3411764705882353, 0.3488372093023256, 0.35294117647058826, 0.35294117647058826, 0.35294117647058826, 0.36470588235294116, 0.36470588235294116, 0.36470588235294116, 0.36470588235294116, 0.36470588235294116, 0.37209302325581395, 0.3764705882352941, 0.3764705882352941, 0.3764705882352941, 0.3764705882352941, 0.38823529411764707, 0.38823529411764707, 0.38823529411764707, 0.38823529411764707, 0.38823529411764707, 0.38823529411764707, 0.38823529411764707, 0.3953488372093023, 0.4, 0.4, 0.4, 0.4, 0.4, 0.4, 0.4, 0.4069767441860465, 0.4117647058823529, 0.4117647058823529, 0.4117647058823529, 0.4117647058823529, 0.4117647058823529, 0.4117647058823529, 0.4117647058823529, 0.4117647058823529, 0.4117647058823529, 0.4186046511627907, 0.4186046511627907, 0.4186046511627907, 0.4235294117647059, 0.4235294117647059, 0.4235294117647059, 0.4235294117647059, 0.4235294117647059, 0.4235294117647059, 0.4235294117647059, 0.4235294117647059, 0.4235294117647059, 0.4235294117647059, 0.4235294117647059, 0.4235294117647059, 0.4235294117647059, 0.43529411764705883, 0.43529411764705883, 0.43529411764705883, 0.43529411764705883, 0.43529411764705883, 0.43529411764705883, 0.43529411764705883, 0.43529411764705883, 0.43529411764705883, 0.4418604651162791, 0.4418604651162791, 0.4418604651162791, 0.4470588235294118, 0.4470588235294118, 0.4470588235294118, 0.4470588235294118, 0.4470588235294118, 0.4470588235294118, 0.4470588235294118, 0.4470588235294118, 0.45348837209302323, 0.4588235294117647, 0.4588235294117647, 0.4588235294117647, 0.4588235294117647, 0.4588235294117647, 0.4588235294117647, 0.46511627906976744, 0.47058823529411764, 0.47058823529411764, 0.47058823529411764, 0.47674418604651164, 0.4823529411764706, 0.4823529411764706, 0.49411764705882355, 0.49411764705882355, 0.5116279069767442, 0.5176470588235295]\n",
      "cv_scores mean:0.41560738714090284\n"
     ]
    }
   ],
   "source": [
    "cv_scores\n",
    "print(sorted(cv_scores))\n",
    "print('cv_scores mean:{}'.format(np.mean(cv_scores)))\n"
   ]
  },
  {
   "cell_type": "code",
   "execution_count": 16,
   "metadata": {},
   "outputs": [
    {
     "data": {
      "text/plain": [
       "GridSearchCV(cv=10, estimator=KNeighborsClassifier(),\n",
       "             param_grid={'n_neighbors': array([ 5, 15, 25, 35, 45, 55]),\n",
       "                         'weights': ['uniform', 'distance']})"
      ]
     },
     "execution_count": 16,
     "metadata": {},
     "output_type": "execute_result"
    }
   ],
   "source": [
    "from sklearn.model_selection import GridSearchCV\n",
    "\n",
    "#create new a knn model\n",
    "knn2 = KNeighborsClassifier()\n",
    "\n",
    "#create a dictionary of all values we want to test for n_neighbors\n",
    "param_grid = {'n_neighbors': np.arange(5, 60,10),\n",
    "             'weights': ['uniform', 'distance']}\n",
    "\n",
    "#use gridsearch to test all values for n_neighbors\n",
    "knn_gscv = GridSearchCV(knn2, param_grid, cv=10)\n",
    "\n",
    "#fit model to data\n",
    "knn_gscv.fit(P_train, Y_train)\n",
    "\n"
   ]
  },
  {
   "cell_type": "code",
   "execution_count": 17,
   "metadata": {},
   "outputs": [
    {
     "name": "stdout",
     "output_type": "stream",
     "text": [
      "{'n_neighbors': 15, 'weights': 'distance'}\n",
      "0.4333475392109807\n"
     ]
    }
   ],
   "source": [
    "print(knn_gscv.best_params_)\n",
    "\n",
    "#check mean score for the top performing value of n_neighbors\n",
    "print(knn_gscv.best_score_)"
   ]
  },
  {
   "cell_type": "code",
   "execution_count": null,
   "metadata": {},
   "outputs": [],
   "source": []
  }
 ],
 "metadata": {
  "kernelspec": {
   "display_name": "Python 3",
   "language": "python",
   "name": "python3"
  },
  "language_info": {
   "codemirror_mode": {
    "name": "ipython",
    "version": 3
   },
   "file_extension": ".py",
   "mimetype": "text/x-python",
   "name": "python",
   "nbconvert_exporter": "python",
   "pygments_lexer": "ipython3",
   "version": "3.8.8"
  }
 },
 "nbformat": 4,
 "nbformat_minor": 1
}